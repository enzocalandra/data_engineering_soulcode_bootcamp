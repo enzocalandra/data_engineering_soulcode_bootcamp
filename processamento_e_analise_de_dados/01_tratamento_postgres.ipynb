{
 "cells": [
  {
   "cell_type": "code",
   "execution_count": null,
   "id": "68070225-50ff-4195-897d-97bc3078eae6",
   "metadata": {},
   "outputs": [],
   "source": [
    "!curl ifconfig.me"
   ]
  },
  {
   "cell_type": "code",
   "execution_count": null,
   "id": "11d40729-d704-4f4b-b612-1f14ab8b9d42",
   "metadata": {},
   "outputs": [],
   "source": [
    "from pyspark.sql import SparkSession, DataFrame\n",
    "from pyspark.sql.functions import *\n",
    "from pyspark.sql.types import *\n",
    "from functools import reduce\n",
    "import numpy as np\n",
    "import re"
   ]
  },
  {
   "cell_type": "code",
   "execution_count": null,
   "id": "38564d90-11de-4da4-8626-6a9c041214e0",
   "metadata": {},
   "outputs": [],
   "source": [
    "import os\n",
    "os.environ['PYSPARK_SUBMIT_ARGS'] = \\\n",
    "'--jars gs://scriptsnatalsoul/postgresql-42.3.1.jar pyspark-shell'\n"
   ]
  },
  {
   "cell_type": "code",
   "execution_count": null,
   "id": "f56e3ea3-fac3-4d69-aecb-b02f071c5f23",
   "metadata": {},
   "outputs": [],
   "source": [
    "spark = SparkSession.builder.appName('InsercaoPostgre')\\\n",
    ".config('spark.sql.caseSensitive','True')\\\n",
    ".getOrCreate()\n",
    "spark"
   ]
  },
  {
   "cell_type": "code",
   "execution_count": null,
   "id": "fc4d7fc7-d5c5-4e57-a634-a6459f3d4487",
   "metadata": {},
   "outputs": [],
   "source": [
    "url = '34.134.31.72'\n",
    "db = 'telecomunicacoes'\n",
    "port = '5432'\n",
    "user = 'postgres'\n",
    "password = 'Ox95F1eyft7LPBeN'"
   ]
  },
  {
   "cell_type": "code",
   "execution_count": null,
   "id": "9436f147-72c6-4b62-9c58-3095735f6f41",
   "metadata": {},
   "outputs": [],
   "source": [
    "def loadData(table:str):\n",
    "        df = spark.read \\\n",
    "        .format(\"jdbc\") \\\n",
    "        .option(\"numPartitions\", \"4\") \\\n",
    "        .option(\"fetchsize\", \"50000\") \\\n",
    "        .option(\"url\", f\"jdbc:postgresql://{url}:{port}/{db}\") \\\n",
    "        .option(\"dbtable\", table) \\\n",
    "        .option(\"driver\", \"org.postgresql.Driver\") \\\n",
    "        .option(\"user\", user) \\\n",
    "        .option(\"password\", password) \\\n",
    "        .load()\n",
    "        return df"
   ]
  },
  {
   "cell_type": "markdown",
   "id": "ba5b936e-9bbf-43b2-a43c-557215a4e4e6",
   "metadata": {},
   "source": [
    "## --> 1. Tratamento de **dados_ibge**"
   ]
  },
  {
   "cell_type": "code",
   "execution_count": null,
   "id": "73e51097-f05b-4a95-b329-8699987258b0",
   "metadata": {},
   "outputs": [],
   "source": [
    "dados_ibge = loadData('dados_ibge')\n",
    "dados_ibge.printSchema()"
   ]
  },
  {
   "cell_type": "code",
   "execution_count": null,
   "id": "4f51b8dc-90d7-41cd-8ea1-2f0965ed2cef",
   "metadata": {},
   "outputs": [],
   "source": [
    "print('numero de entradas ->',dados_ibge.count())\n",
    "dados_ibge.select([count(when(isnan(c),c)).alias(c)for c in dados_ibge.columns]).show()"
   ]
  },
  {
   "cell_type": "code",
   "execution_count": null,
   "id": "0655a82f-565e-4b55-869f-673cfabc75fd",
   "metadata": {},
   "outputs": [],
   "source": [
    "dados_ibge.show(3)"
   ]
  },
  {
   "cell_type": "code",
   "execution_count": null,
   "id": "1f58af0b-9fe6-4382-b93a-1b7ce856bfb6",
   "metadata": {},
   "outputs": [],
   "source": [
    "DFdi = dados_ibge.select(col('ano'),\n",
    "                        col('id_municipio').alias('id_ibge'),\n",
    "                        regexp_replace('id_municipio', r\"(^.{1,2})\" , \"\").alias('id_municipio').cast(IntegerType()),\n",
    "                        substring('id_municipio',0,2).alias('id_uf').cast(IntegerType()),\n",
    "                        col('pib').alias('pib_municipio')).filter( (col('ano') == 2017) | (col('ano') == 2018) )\n",
    "print('numero de entradas ->',DFdi.count())\n",
    "DFdi.show(3)"
   ]
  },
  {
   "cell_type": "code",
   "execution_count": null,
   "id": "11ff5889-18fe-4a8b-87ff-232afb3bf46f",
   "metadata": {},
   "outputs": [],
   "source": [
    "DFdi.printSchema()"
   ]
  },
  {
   "cell_type": "markdown",
   "id": "c796f1f8-d75e-424a-8562-b34e879e89ba",
   "metadata": {},
   "source": [
    "## --> 2. Tratamento de **cidades_ibge**"
   ]
  },
  {
   "cell_type": "code",
   "execution_count": null,
   "id": "840a3af5-0856-4e7d-8bec-8dfeb766797a",
   "metadata": {},
   "outputs": [],
   "source": [
    "cidades_ibge = loadData('cidades_ibge')\n",
    "cidades_ibge.printSchema()"
   ]
  },
  {
   "cell_type": "code",
   "execution_count": null,
   "id": "49051c67-553d-4554-bd3d-0f371a923df3",
   "metadata": {},
   "outputs": [],
   "source": [
    "print('numero de entradas ->',cidades_ibge.count())\n",
    "cidades_ibge.select([count(when(isnan(c),c)).alias(c)for c in cidades_ibge.columns]).show()"
   ]
  },
  {
   "cell_type": "code",
   "execution_count": null,
   "id": "41377371-8169-4253-8727-f07751b4829d",
   "metadata": {},
   "outputs": [],
   "source": [
    "cidades_ibge = cidades_ibge.dropna()\n",
    "cidades_ibge.count()"
   ]
  },
  {
   "cell_type": "code",
   "execution_count": null,
   "id": "6c1fa8b8-f743-4002-a26b-4eebb9f7e225",
   "metadata": {},
   "outputs": [],
   "source": [
    "cidades_ibge = cidades_ibge.withColumn(\"COD__UF\", (col('COD__UF')*100000))\n",
    "cidades_ibge = cidades_ibge.withColumn('id_ibge', (col('COD__UF')+col('COD__MUNIC')))\n",
    "DFci = cidades_ibge\n",
    "DFci.show(3)"
   ]
  },
  {
   "cell_type": "markdown",
   "id": "20162658-9d52-44cb-b3ba-8a96bbde36e0",
   "metadata": {},
   "source": [
    "## --> 3. Fusão das tabelas tratadas **cidades_ibge** e **dados_ibge**"
   ]
  },
  {
   "cell_type": "code",
   "execution_count": null,
   "id": "e462fdec-d71d-4927-8454-0cadcdf4557b",
   "metadata": {},
   "outputs": [],
   "source": [
    "print(' ',DFdi.columns,'\\n ',DFci.columns)"
   ]
  },
  {
   "cell_type": "code",
   "execution_count": null,
   "id": "dd8a559a-696b-47e4-b956-243d8644edb6",
   "metadata": {},
   "outputs": [],
   "source": [
    "DFjoin = DFci.join(DFdi, ['id_ibge'], 'inner').drop(*['COD__MUNIC', 'COD__UF'])\n",
    "DFjoin.count()"
   ]
  },
  {
   "cell_type": "code",
   "execution_count": null,
   "id": "6bb99695-ffec-4b6b-8901-44ea28d6ed23",
   "metadata": {},
   "outputs": [],
   "source": [
    "DFjoin.show(3)"
   ]
  },
  {
   "cell_type": "code",
   "execution_count": null,
   "id": "6aab1a92-33db-4cfb-9ca2-ed9edbc804d4",
   "metadata": {},
   "outputs": [],
   "source": [
    "print('numero de entradas ->',DFjoin.count())\n",
    "DFjoin.select([count(when(isnan(c),c)).alias(c)for c in DFjoin.columns]).show()"
   ]
  },
  {
   "cell_type": "code",
   "execution_count": null,
   "id": "0a4ab649-73a9-48ec-b555-c63a38f946cc",
   "metadata": {},
   "outputs": [],
   "source": [
    "DFjoin.printSchema()"
   ]
  },
  {
   "cell_type": "code",
   "execution_count": null,
   "id": "c5d34400-9738-4c68-90e1-51e574ad6616",
   "metadata": {},
   "outputs": [],
   "source": [
    "DFjoin.show(3)"
   ]
  },
  {
   "cell_type": "code",
   "execution_count": null,
   "id": "c10d5e22-841b-4f9b-acc4-07a0dd3e2e2d",
   "metadata": {},
   "outputs": [],
   "source": [
    "DFjoin = DFjoin.select(DFjoin[0].alias('cod_ibge'),\n",
    "                DFjoin[1].alias('uf'),\n",
    "                DFjoin[2].alias('nome_municipio'),\n",
    "                regexp_replace(DFjoin[3], \"\\.\" , \"\").alias('populacao').cast(IntegerType()),                       \n",
    "                DFjoin[4],\n",
    "                DFjoin[5].alias('cod_municipio'),\n",
    "                DFjoin[6].alias('cod_uf'),\n",
    "                DFjoin[7].alias('pib_municipio'))"
   ]
  },
  {
   "cell_type": "code",
   "execution_count": null,
   "id": "033dba5d-468f-4f2c-a714-7dd6216e7905",
   "metadata": {},
   "outputs": [],
   "source": [
    "DFjoin.show(3)"
   ]
  },
  {
   "cell_type": "code",
   "execution_count": null,
   "id": "1c5fce91-67ac-4eed-b2e4-0cbac191e0db",
   "metadata": {},
   "outputs": [],
   "source": [
    "DFjoin.printSchema()"
   ]
  },
  {
   "cell_type": "code",
   "execution_count": null,
   "id": "302ea885-b6a3-42df-ad3f-88a9a9410a83",
   "metadata": {},
   "outputs": [],
   "source": [
    "DFjoin.write.mode(\"overwrite\").parquet('gs://parquetcassandranatalsoul/Dados_ibge')"
   ]
  },
  {
   "cell_type": "markdown",
   "id": "ca5a217b-f442-42a7-9356-f7baa20a5e54",
   "metadata": {},
   "source": [
    "## --> 3. Tratamento de dados de qualidade"
   ]
  },
  {
   "cell_type": "code",
   "execution_count": null,
   "id": "92dffe2f-de22-4a00-acc7-fd8684b51063",
   "metadata": {},
   "outputs": [],
   "source": [
    "qualidade = loadData('qualidade')"
   ]
  },
  {
   "cell_type": "code",
   "execution_count": null,
   "id": "a9af385c-0aa3-47c6-930c-ccfc2278d976",
   "metadata": {},
   "outputs": [],
   "source": [
    "qualidade.show(3)"
   ]
  },
  {
   "cell_type": "code",
   "execution_count": null,
   "id": "71380504-4793-47af-a39f-b13806e603f0",
   "metadata": {},
   "outputs": [],
   "source": [
    "qualidade.printSchema()"
   ]
  },
  {
   "cell_type": "code",
   "execution_count": null,
   "id": "16113335-e204-41b3-86de-2d275f88f90b",
   "metadata": {},
   "outputs": [],
   "source": [
    "dfqld = qualidade.select(col('Servi_o').alias('servico'),\n",
    "                         col('Empresa').alias('empresa'),\n",
    "                         col('Ano').alias('ano'),\n",
    "                         col('UF').alias('uf'),\n",
    "                         col('Meta_do_Indicador').alias('meta_indicador'),\n",
    "                         col('Cumpriu').alias('cumpriu'),\n",
    "                         col('Descumpriu').alias('descumpriu'))\n",
    "dfqld.show(3)"
   ]
  },
  {
   "cell_type": "code",
   "execution_count": null,
   "id": "1ea306dd-062d-4b3c-8a96-f154a1e2c9c0",
   "metadata": {},
   "outputs": [],
   "source": [
    "dfqld.printSchema()"
   ]
  },
  {
   "cell_type": "code",
   "execution_count": null,
   "id": "f341f326-308a-4cdb-ae1e-7de25b46134c",
   "metadata": {},
   "outputs": [],
   "source": [
    "dfqld.show(3)"
   ]
  },
  {
   "cell_type": "code",
   "execution_count": null,
   "id": "06eff535-674a-44f2-b46d-e75f285904d1",
   "metadata": {},
   "outputs": [],
   "source": [
    "dfqld.select([count(when(isnan(c),c)).alias(c)for c in dfqld.columns]).show()"
   ]
  },
  {
   "cell_type": "code",
   "execution_count": null,
   "id": "07972493-facf-45ef-ae5e-a682a6b523a9",
   "metadata": {},
   "outputs": [],
   "source": [
    "dfqld.printSchema()"
   ]
  },
  {
   "cell_type": "code",
   "execution_count": null,
   "id": "c35bec23-beaa-49ab-b9a5-5f649d2b678c",
   "metadata": {},
   "outputs": [],
   "source": [
    "dfqld.write.mode(\"overwrite\").parquet('gs://parquetcassandranatalsoul/Qualidade')"
   ]
  },
  {
   "cell_type": "markdown",
   "id": "0128ac2c-d79c-4cc3-a6be-c06aa854d9cc",
   "metadata": {},
   "source": [
    "## --> 4. Tratamento de dados de cobertura"
   ]
  },
  {
   "cell_type": "code",
   "execution_count": null,
   "id": "1c75be80-ade1-4ae8-8f33-f3daae18e568",
   "metadata": {},
   "outputs": [],
   "source": [
    "cobertura_operadoras = loadData('cobertura_operadoras')"
   ]
  },
  {
   "cell_type": "code",
   "execution_count": null,
   "id": "b7f2b73a-baed-4f90-90e8-922af54a11ae",
   "metadata": {},
   "outputs": [],
   "source": [
    "dfco = cobertura_operadoras.select(col('Ano').alias('ano'), \n",
    "                                    col('Operadora').alias('operadora'),\n",
    "                                    col('Tecnologia').alias('tecnologia'),\n",
    "                                    col('Tipo_Setor').alias('setor'),\n",
    "                                    substring(\"C_digo_Munic_pio\",0,2).alias('cod_uf').cast(IntegerType()),\n",
    "                                    regexp_replace(\"C_digo_Munic_pio\", r\"(^.{1,2})\" , \"\").alias('cod_municipio').cast(IntegerType()),\n",
    "                                    col('UF').alias('uf'),\n",
    "                                    col('Regi_o').alias('regiao'),\n",
    "                                    col('Domic_lios').alias('domicilios'),\n",
    "                                    col('Moradores').alias('moradores'),\n",
    "                                    col('Percentual_Cobertura').alias('percentual_cobertura'))\n",
    "dfco.show(3)"
   ]
  },
  {
   "cell_type": "code",
   "execution_count": null,
   "id": "68735fd3-09ae-4283-bee4-43d2c10fed60",
   "metadata": {},
   "outputs": [],
   "source": [
    "dfco.printSchema()"
   ]
  },
  {
   "cell_type": "code",
   "execution_count": null,
   "id": "1ba75335-73a1-4536-b6c2-32d2b4f15f0b",
   "metadata": {},
   "outputs": [],
   "source": [
    "dfco.write.mode(\"overwrite\").parquet('gs://parquetcassandranatalsoul/Cobertura')"
   ]
  },
  {
   "cell_type": "markdown",
   "id": "743170be-a35b-43ac-a30d-307136220e96",
   "metadata": {},
   "source": [
    "## --> 5. Tratamento de dados de reclamacoes"
   ]
  },
  {
   "cell_type": "code",
   "execution_count": null,
   "id": "b1a00bdf-48fd-4d30-96ff-15e88782abe2",
   "metadata": {},
   "outputs": [],
   "source": [
    "reclamacoes = loadData('reclamacoes')\n",
    "reclamacoes.printSchema()"
   ]
  },
  {
   "cell_type": "code",
   "execution_count": null,
   "id": "e1640393-0bdb-4c13-8aa0-563f64fcf249",
   "metadata": {},
   "outputs": [],
   "source": [
    "dfrecl = reclamacoes.select(col('Ano').alias('ano'),\n",
    "                    col('M_s').alias('mes'),\n",
    "                    col('UF').alias('uf'),\n",
    "                    col('Cidade').alias('cidade'),\n",
    "                    regexp_replace(\"CO_MUNICIPIO\", r\"(^.{1,2})\" , \"\").alias('cod_municipio').cast(IntegerType()),\n",
    "                    col('CanalEntrada').alias('canal'),\n",
    "                    col('Marca').alias('marca'),\n",
    "                    col('Assunto').alias('assunto')).filter((col('Ano')==2017) |\n",
    "                          (col('Ano')==2018) |\n",
    "                          (col('marca')=='TIM') |\n",
    "                          (col('marca')=='OI'))\n"
   ]
  },
  {
   "cell_type": "code",
   "execution_count": null,
   "id": "91094314-8a08-4669-973b-b488e3797c0d",
   "metadata": {},
   "outputs": [],
   "source": [
    "dfrecl.printSchema()"
   ]
  },
  {
   "cell_type": "code",
   "execution_count": null,
   "id": "248b4af9-e8ea-4bcf-8690-a800a7b3bec2",
   "metadata": {},
   "outputs": [],
   "source": [
    "dfrecl.count()"
   ]
  },
  {
   "cell_type": "code",
   "execution_count": null,
   "id": "ecddafa3-bfb6-4a15-8806-a92d4bab95d1",
   "metadata": {},
   "outputs": [],
   "source": [
    "dfrecl.write.mode(\"overwrite\").parquet('gs://parquetcassandranatalsoul/Reclamacao')"
   ]
  }
 ],
 "metadata": {
  "kernelspec": {
   "display_name": "Python 3",
   "language": "python",
   "name": "python3"
  },
  "language_info": {
   "codemirror_mode": {
    "name": "ipython",
    "version": 3
   },
   "file_extension": ".py",
   "mimetype": "text/x-python",
   "name": "python",
   "nbconvert_exporter": "python",
   "pygments_lexer": "ipython3",
   "version": "3.8.10"
  }
 },
 "nbformat": 4,
 "nbformat_minor": 5
}
